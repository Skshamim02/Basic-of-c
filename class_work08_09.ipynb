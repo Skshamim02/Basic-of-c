{
  "nbformat": 4,
  "nbformat_minor": 0,
  "metadata": {
    "colab": {
      "provenance": [],
      "authorship_tag": "ABX9TyNAxteUQoyjqoVcCjpvrN+h",
      "include_colab_link": true
    },
    "kernelspec": {
      "name": "python3",
      "display_name": "Python 3"
    },
    "language_info": {
      "name": "python"
    }
  },
  "cells": [
    {
      "cell_type": "markdown",
      "metadata": {
        "id": "view-in-github",
        "colab_type": "text"
      },
      "source": [
        "<a href=\"https://colab.research.google.com/github/Skshamim02/Basic-of-c/blob/main/class_work08_09.ipynb\" target=\"_parent\"><img src=\"https://colab.research.google.com/assets/colab-badge.svg\" alt=\"Open In Colab\"/></a>"
      ]
    },
    {
      "cell_type": "code",
      "source": [
        "#ANSWER NO 1\n",
        "#binary\n",
        "decimal_number = 11\n",
        "binary_number = bin(decimal_number)\n",
        "print( binary_number)\n"
      ],
      "metadata": {
        "colab": {
          "base_uri": "https://localhost:8080/"
        },
        "id": "K_ORz-2RJSDO",
        "outputId": "897e20a9-faaf-4cf8-c03b-0b99cb172d75"
      },
      "execution_count": 14,
      "outputs": [
        {
          "output_type": "stream",
          "name": "stdout",
          "text": [
            "0b1011\n"
          ]
        }
      ]
    },
    {
      "cell_type": "code",
      "source": [
        "#octal\n",
        "decimal_number = 45\n",
        "octal_number =oct(decimal_number)\n",
        "print(octal_number)"
      ],
      "metadata": {
        "colab": {
          "base_uri": "https://localhost:8080/"
        },
        "id": "o_lRfzcLJSAe",
        "outputId": "82136614-9b87-49b9-9a53-8a58a201972a"
      },
      "execution_count": 15,
      "outputs": [
        {
          "output_type": "stream",
          "name": "stdout",
          "text": [
            "0o55\n"
          ]
        }
      ]
    },
    {
      "cell_type": "code",
      "source": [
        "#hexa\n",
        "hex_number = hex(decimal_number)\n",
        "print(hex_number)"
      ],
      "metadata": {
        "colab": {
          "base_uri": "https://localhost:8080/"
        },
        "id": "fOFpP4qRI4rC",
        "outputId": "df0d5020-8069-40fa-9c57-df46e3e5fe3a"
      },
      "execution_count": 16,
      "outputs": [
        {
          "output_type": "stream",
          "name": "stdout",
          "text": [
            "0x2d\n"
          ]
        }
      ]
    },
    {
      "cell_type": "code",
      "source": [
        "#ANSWER NO 2\n",
        "#ASCI VALUE\n",
        "character = input(\"Enter a character: \")\n",
        "\n",
        "if len(character) == 1:\n",
        "\n",
        "    ascii_value = ord(character)\n",
        "    print(ascii_value)\n",
        "\n"
      ],
      "metadata": {
        "colab": {
          "base_uri": "https://localhost:8080/"
        },
        "id": "GWNrHz7aRV4r",
        "outputId": "f238ebb5-9b2c-4d18-8cfb-899aba13ae59"
      },
      "execution_count": 17,
      "outputs": [
        {
          "output_type": "stream",
          "name": "stdout",
          "text": [
            "Enter a character: 6\n",
            "54\n"
          ]
        }
      ]
    },
    {
      "cell_type": "code",
      "source": [
        "import math\n",
        "#Answer non 3 calculator\n",
        "# Define functions\n",
        "def add(a, b):\n",
        "    return a + b\n",
        "\n",
        "def subtract(a, b):\n",
        "    return a - b\n",
        "\n",
        "def multiply(a, b):\n",
        "    return a * b\n",
        "\n",
        "def divide(a, b):\n",
        "    if b == 0:\n",
        "        return \"Cannot divide by zero\"\n",
        "    return a / b\n",
        "\n",
        "def lcm(a, b):\n",
        "    return abs(a * b) // math.gcd(a, b)\n",
        "\n",
        "def hcf(a, b):\n",
        "    return math.gcd(a, b)\n",
        "\n",
        "#  input\n",
        "num_1 = int(input(\"Please enter the first number: \"))\n",
        "num_2 = int(input(\"Please enter the second number: \"))\n",
        "choice = input(\"Please enter choice (a/b/c/d/e/f): \")\n",
        "\n",
        "# Perform the selected operation and print the result\n",
        "if choice == 'a':\n",
        "    print(num_1, \" + \", num_2, \" = \", add(num_1, num_2))\n",
        "elif choice == 'b':\n",
        "    print(num_1, \" - \", num_2, \" = \", subtract(num_1, num_2))\n",
        "elif choice == 'c':\n",
        "    print(num_1, \" * \", num_2, \" = \", multiply(num_1, num_2))\n",
        "elif choice == 'd':\n",
        "    if num_2 == 0:\n",
        "        print(\"Cannot divide by zero\")\n",
        "    else:\n",
        "        print(num_1, \" / \", num_2, \" = \", divide(num_1, num_2))\n",
        "elif choice == 'e':\n",
        "    print(\"LCM of\", num_1, \"and\", num_2, \"is\", lcm(num_1, num_2))\n",
        "elif choice == 'f':\n",
        "    print(\"HCF of\", num_1, \"and\", num_2, \"is\", hcf(num_1, num_2))\n",
        "else:\n",
        "    print(\"This is an invalid input\")\n"
      ],
      "metadata": {
        "colab": {
          "base_uri": "https://localhost:8080/"
        },
        "id": "nw3B5oxKRYmu",
        "outputId": "53f369c7-2ffd-4269-a6f7-d069fa067923"
      },
      "execution_count": 13,
      "outputs": [
        {
          "output_type": "stream",
          "name": "stdout",
          "text": [
            "Please enter the first number: 6\n",
            "Please enter the second number: 7\n",
            "Please enter choice (a/b/c/d/e/f): f\n",
            "HCF of 6 and 7 is 1\n"
          ]
        }
      ]
    },
    {
      "cell_type": "code",
      "source": [],
      "metadata": {
        "id": "Nsdyzc9wRkmS"
      },
      "execution_count": 17,
      "outputs": []
    }
  ]
}